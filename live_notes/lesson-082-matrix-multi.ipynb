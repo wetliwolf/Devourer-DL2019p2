{
 "cells": [
  {
   "cell_type": "markdown",
   "metadata": {},
   "source": [
    "# Fastai 2019: Lesson 8 - Matrix Multipication\n",
    "\n",
    "First we will do some basic imports. The following notebook magic lines will do the following\n",
    "\n",
    "- will auto reload external references or files\n",
    "- and will do so on a specific interval\n",
    "- will plot in the notebook\n",
    "- matplotlib `mpl` will use gray scale since we are going to be working with MNIST"
   ]
  },
  {
   "cell_type": "code",
   "execution_count": 1,
   "metadata": {},
   "outputs": [],
   "source": [
    "%load_ext autoreload\n",
    "%autoreload 2\n",
    "\n",
    "%matplotlib inline\n",
    "mpl.rcParams['image.cmap'] = 'gray'"
   ]
  },
  {
   "cell_type": "code",
   "execution_count": 7,
   "metadata": {},
   "outputs": [],
   "source": [
    "import oper