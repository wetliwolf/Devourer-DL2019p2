{
 "cells": [
  {
   "cell_type": "markdown",
   "metadata": {},
   "source": [
    "# Fastai 2019: Lesson 8 - Matrix Multipication\n",
    "\n",
    "First we will do some basic imports. The following notebook magic lines will do the following\n",
    "\n",
    "- will auto reload external references or files\n",
    "- and will do so on a specific interval\n",
    "- will plot in the notebook\n",
    "- matplotlib `mpl` will use gray scale since we are going to be working with MNIST"
   ]
  },
  {
   "cell_type": "code",
   "execution_count": 1,
   "metadata": {},
   "outputs": [],
   "source": [
    "%load_ext autoreload\n",
    "%autoreload 2\n",
    "\n",
    "%matplotlib inline\n",
    "mpl.rcParams['image.cmap'] = 'gray'"
   ]
  },
  {
   "cell_type": "code",
   "execution_count": 7,
   "metadata": {},
   "outputs": [],
   "source": [
    "import operator\n",
    "\n",
    "\n",
    "def test(a, b, cmp, cname=None):\n",
    "    \"\"\"\n",
    "    Simple test function\n",
    "    \"\"\"\n",
    "    # if no name is passed, \n",
    "    if cname is None: \n",
    "        cname=cmp.__name__\n",
    "\n",
    "    # this is the test\n",
    "    # if it fails, the second phrase will be returned\n",
    "    # which is the f\"{cname}:\\n{a}\\n{b}\"\n",
    "    assert cmp(a, b), f\"{cname}:\\n{a}\\n{b}\"\n",
    "\n",
    "def test_eq(a,b):\n",
    "    \"\"\"\n",
    "    Is a larger function that calls the test function\n",
    "    but only passes teh == sign\n",
    "    \"\"\"\n",
    "    test(a, b, operator.eq, '==')"
   ]
  },
  {
   "cell_type": "code",
   "execution_count": 2,
   "metadata": {},
   "outputs": [],
   "source": [
    "#export\n",
    "\n",
    "# standard libraries\n",
    "from pathlib import Path\n",
    "from IPython.core.debugger import set_trace\n",
    "import pickle, gzip, math, torch, matplotlib as mpl\n",
    "import matplotlib.pyplot as plt\n",
    "\n",
    "# datasets\n",
    "from fastai import datasets\n",
    "\n",
    "# basic pytorch\n",
    "from torch import tensor\n",