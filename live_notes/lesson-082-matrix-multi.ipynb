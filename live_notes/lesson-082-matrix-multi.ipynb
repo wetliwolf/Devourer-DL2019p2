{
 "cells": [
  {
   "cell_type": "markdown",
   "metadata": {},
   "source": [
    "# Fastai 2019: Lesson 8 - Matrix Multipication\n",
    "\n",
    "First we will do some basic imports. The following notebook magic lines will do the following\n",
    "\n",
    "- will auto reload external references or files\n",
    "- and will do so on a specific interval\n",
    "- will plot in the notebook\n",
    "- matplotlib `mpl` will use gray scale since we are going to be working with MNIST"
   ]
  },
  {
   "cell_type": "code",
   "execution_count": 1,
   "metadata": {},
   "outputs": [],
   "source": [
    "%load_ext autoreload\n",
    "%autoreload 2\n",
    "\n",
    "%matplotlib inline\n",
    "mpl.rcParams['image.cmap'] = 'gray'"
   ]
  },
  {
   "cell_type": "code",
   "execution_count": 7,
   "metadata": {},
   "outputs": [],
   "source": [
    "import operator\n",
    "\n",
    "\n",
    "def test(a, b, cmp, cname=None):\n",
    "    \"\"\"\n",
    "    Simple test function\n",
    "    \"\"\"\n",
    "    # if no name is passed, \n",
    "    if cname is None: \n",
    "        cname=cmp.__name__\n",
    "\n",
    "    # this is the test\n",
    "    # if it fails, the second phrase will be returned\n",
    "    # which is the f\"{cname}:\\n{a}\\n{b}\"\n",
    "    assert cmp(a, b), f\"{cname}:\\n{a}\\n{b}\"\n",
    "\n",
    "def test_eq(a,b):\n",
    "    \"\"\"\n",
    "    Is a larger function that calls the test function\n",
    "    but only passes teh == sign\n",
    "    \"\"\"\n",
    "    test(a, b, operator.eq, '==')"
   ]
  },
  {
   "cell_type": "code",
   "execution_count": 2,
   "metadata": {},
   "outputs": [],
   "source": [
    "#export\n",
    "\n",
    "# standard libraries\n",
    "from pathlib import Path\n",
    "from IPython.core.debugger import set_trace\n",
    "import pickle, gzip, math, torch, matplotlib as mpl\n",
    "import matplotlib.pyplot as plt\n",
    "\n",
    "# datasets\n",
    "from fastai import datasets\n",
    "\n",
    "# basic pytorch\n",
    "from torch import tensor\n",
    "\n",
    "MNIST_URL='http://deeplearning.net/data/mnist/mnist.pkl'"
   ]
  },
  {
   "cell_type": "markdown",
   "metadata": {},
   "source": [
    "### Download the mnist dataset and load"
   ]
  },
  {
   "cell_type": "code",
   "execution_count": 3,
   "metadata": {},
   "outputs": [],
   "source": [
    "path = datasets.download_data(MNIST_URL, ext='.gz'); path\n",
    "\n",
    "# unzips the download\n",
    "with gzip.open(path, 'rb') as f:\n",
    "    ((x_train, y_train), (x_valid, y_valid), _) = pickle.load(f, encoding='latin-1')"
   ]
  },
  {
   "cell_type": "code",
   "execution_count": 4,
   "metadata": {},
   "outputs": [
    {
     "data": {
      "text/plain": [
       "(tensor([[0., 0., 0.,  ..., 0., 0., 0.],\n",
       "         [0., 0., 0.,  ..., 0., 0., 0.],\n",
       "         [0., 0., 0.,  ..., 0., 0., 0.],\n",
       "         ...,\n",
       "         [0., 0., 0.,  ..., 0., 0., 0.],\n",
       "         [0., 0., 0.,  ..., 0., 0., 0.],\n",
       "         [0., 0., 0.,  ..., 0., 0., 0.]]),\n",
       " torch.Size([50000, 784]),\n",
       " tensor([5, 0, 4,  ..., 8, 4, 8]),\n",
     